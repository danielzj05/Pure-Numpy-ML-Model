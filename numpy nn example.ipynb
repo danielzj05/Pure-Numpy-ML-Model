{
 "cells": [
  {
   "cell_type": "code",
   "execution_count": 3,
   "id": "5d4c8f22-bffa-458a-8de8-b4cd60d1adf2",
   "metadata": {
    "tags": []
   },
   "outputs": [],
   "source": [
    "import numpy as np\n",
    "\n",
    "np.random.seed(0)\n",
    "\n",
    "#set toy data set\n",
    "x = np.array([[0, 0], [0, 1], [1, 0], [1, 1]])\n",
    "y = np.array([[0], [1], [1], [0]])"
   ]
  },
  {
   "cell_type": "code",
   "execution_count": 4,
   "id": "eeb0685c-65cc-4c23-85fb-cc640690a647",
   "metadata": {
    "tags": []
   },
   "outputs": [
    {
     "name": "stdout",
     "output_type": "stream",
     "text": [
      "[[0.00548814 0.00715189]\n",
      " [0.00602763 0.00544883]\n",
      " [0.00423655 0.00645894]]\n",
      "[[0 0]\n",
      " [0 1]\n",
      " [1 0]\n",
      " [1 1]]\n"
     ]
    }
   ],
   "source": [
    "#initialize weights and biases --> very basic\n",
    "def initializeParameters(inputSize, hiddenSize, outputSize):\n",
    "    np.random.seed(0)\n",
    "    #random.randn returns random samples from the standard distrubition\n",
    "    #0-1 i believe; assigning random weights to the notes (ask kenny)\n",
    "    w1 = np.random.rand(hiddenSize, inputSize)*0.01 #making the weights weigh less? not sure why\n",
    "    print(w1)\n",
    "    print(x)\n",
    "    #returns an array of zeros (a vector, NOTE THAT THE WHOLE THING \n",
    "    #IS IN BRACKETS TO DECLARE THE SIZE OF THE VECTOR)\n",
    "    b1 = np.zeros((hiddenSize, 1))\n",
    "    w2 = np.random.rand(outputSize, hiddenSize)*0.01\n",
    "    b2 = np.zeros((outputSize, 1))\n",
    "    #dictionary holding all the values; need keys to access\n",
    "    parameters = {\"w1\": w1, \"b1\": b1, \"w2\": w2, \"b2\": b2}\n",
    "    return parameters\n",
    "\n",
    "parameters = initializeParameters(2,3,1)"
   ]
  },
  {
   "cell_type": "code",
   "execution_count": 5,
   "id": "274cb4f3-4fdd-4d92-9631-7f71ffd9d787",
   "metadata": {},
   "outputs": [],
   "source": [
    "def sigmoid(x):\n",
    "    return 1/(1+np.exp(-x))"
   ]
  },
  {
   "cell_type": "code",
   "execution_count": 6,
   "id": "6a08368b-914e-40cc-9d0f-de5207e51851",
   "metadata": {
    "tags": []
   },
   "outputs": [],
   "source": [
    "def forwardFeed(x, parameters):\n",
    "    #retrieve parameters\n",
    "    w1 = parameters[\"w1\"]\n",
    "    b1 = parameters[\"b1\"]\n",
    "    w2 = parameters[\"w2\"]\n",
    "    b2 = parameters[\"b2\"]\n",
    "\n",
    "    #activation of the hidden layer\n",
    "    z1 = np.dot(w1, x.T) + b1 #.T is the transpose of the matrix\n",
    "    a1 = sigmoid(z1)\n",
    "\n",
    "    #activation of the output layer\n",
    "    z2 = np.dot(w2, a1) + b2\n",
    "    a2 = sigmoid(z2)\n",
    "    cache = {\"z1\": z1, \"a1\": a1, \"z2\": z2, \"a2\": a2} #intermediate values for backprop\n",
    "\n",
    "    return a2, cache\n",
    "\n",
    "a2, cache = forwardFeed(x, parameters)"
   ]
  },
  {
   "cell_type": "code",
   "execution_count": 7,
   "id": "1bb793e9-1348-43b3-924e-ff5539f5e7bb",
   "metadata": {},
   "outputs": [],
   "source": [
    "#define loss function - binary cross-entropy loss function\n",
    "\n",
    "def binaryCrossEntrropyLoss(a2, y): #y is the true label (actual truth; what we want to model)\n",
    "    m = y.shape[0]                  #a2 is the last output of the network\n",
    "    loss = -1*(1/m)*np.sum(y*np.log(a2)+(1-y)*np.log(1-a2))\n",
    "    return loss"
   ]
  },
  {
   "cell_type": "code",
   "execution_count": 8,
   "id": "a992d87d-6ad2-4eae-95f6-3bddd687d9a2",
   "metadata": {
    "tags": []
   },
   "outputs": [],
   "source": [
    "#back prop\n",
    "def backProp(parameters, cache, x, y):\n",
    "    m = y.shape[0]\n",
    "\n",
    "    # retrieve the intermediate values\n",
    "    z1 = cache[\"z1\"]\n",
    "    a1 = cache[\"a1\"]\n",
    "    z2 = cache[\"z2\"]\n",
    "    a2 = cache[\"a2\"]\n",
    "    \n",
    "    # derivative of loss w.r.t a2\n",
    "    dA2 = -(y/a2) + ((1-y)/(1-a2))\n",
    "\n",
    "    # derivative of the activation function of the output layer\n",
    "    dZ2 = dA2 * (a2*(1-a2))\n",
    "    \n",
    "    #derivative of the weights and biases of the output layer\n",
    "    dW2 = (1/m)*np.dot(dZ2, a1.T)\n",
    "    dB2 = (1/m)*np.sum(dZ2, axis = 1, keepdims=True)\n",
    "    # .sum(array (elements to sum), axis that sum is performed, keepdims keep the output the same size as the input)\n",
    "\n",
    "    # derivative of activation of hidden layer\n",
    "    dA1 = np.dot(parameters[\"w2\"].T, dZ2)\n",
    "    dZ1 = dA1*(a1*(1-a1))\n",
    "\n",
    "    #derivative of weights and biases of the hidden layer\n",
    "    dW1 = (1/m)*np.dot(dZ1, x)\n",
    "    dB1 = (1/m)*np.sum(dZ1, axis=1, keepdims=True)\n",
    "    gradients = {\"dW1\": dW1, \"dB1\": dB1, \"dW2\": dW2, \"dB2\": dB2}\n",
    "\n",
    "    return gradients"
   ]
  },
  {
   "cell_type": "code",
   "execution_count": 9,
   "id": "1cc77553-5413-49d6-9930-eff11846fe94",
   "metadata": {
    "tags": []
   },
   "outputs": [],
   "source": [
    "# implement backprop; improve and update parameters\n",
    "def updateParam(parameters, gradients, learningRate):\n",
    "    #get gradients (derivatives)\n",
    "    dW1 = gradients[\"dW1\"]\n",
    "    dB1 = gradients[\"dB1\"]\n",
    "    dW2 = gradients[\"dW2\"]\n",
    "    dB2 = gradients[\"dB2\"]\n",
    "\n",
    "    #retrieve weights and biases\n",
    "    w1 = parameters[\"w1\"]\n",
    "    b1 = parameters[\"b1\"]\n",
    "    w2 = parameters[\"w2\"]\n",
    "    b2 = parameters[\"b2\"]\n",
    "\n",
    "    #update weights and biases\n",
    "    # *note: this is the general weight update equation\n",
    "    w1 = w1 - learningRate*dW1\n",
    "    b1 = b1 - learningRate*dB1\n",
    "    w2 = w2 - learningRate*dW2\n",
    "    b2 = b2 - learningRate*dB2\n",
    "    \n",
    "    parameters = {\"w1\": w1, \"b1\": b1, \"w2\": w2, \"b2\": b2}\n",
    "    \n",
    "    return parameters"
   ]
  },
  {
   "cell_type": "code",
   "execution_count": 13,
   "id": "fd9ff928-100b-4c94-8ec3-fa3c00858dab",
   "metadata": {
    "tags": []
   },
   "outputs": [
    {
     "name": "stdout",
     "output_type": "stream",
     "text": [
      "[[0.00548814 0.00715189]\n",
      " [0.00602763 0.00544883]\n",
      " [0.00423655 0.00645894]\n",
      " [0.00437587 0.00891773]]\n",
      "[[0 0]\n",
      " [0 1]\n",
      " [1 0]\n",
      " [1 1]]\n",
      "iteration0: loss = 2.7726782167210433\n",
      "iteration1000: loss = 2.7725887221668755\n",
      "iteration2000: loss = 2.7725887221667747\n",
      "iteration3000: loss = 2.772588722166674\n",
      "iteration4000: loss = 2.7725887221665726\n",
      "iteration5000: loss = 2.7725887221664713\n",
      "iteration6000: loss = 2.7725887221663696\n",
      "iteration7000: loss = 2.772588722166267\n",
      "iteration8000: loss = 2.7725887221661654\n",
      "iteration9000: loss = 2.7725887221660632\n"
     ]
    }
   ],
   "source": [
    "#training the neural network\n",
    "def train(x, y, hiddenLayerSize, iterations, learningRate):\n",
    "    #initialize weights and biases\n",
    "    parameters = initializeParameters(x.shape[1], hiddenLayerSize, 1)\n",
    "    for i in range(iterations):\n",
    "        a2, cache = forwardFeed(x, parameters)\n",
    "\n",
    "        #compute loss\n",
    "        loss = binaryCrossEntrropyLoss(a2, y)\n",
    "\n",
    "        #back prop\n",
    "        gradients = backProp(parameters, cache, x, y)\n",
    "        #update params\n",
    "        parameters = updateParam(parameters, gradients, learningRate)\n",
    "        \n",
    "        if i%1000 == 0:\n",
    "            print(f\"iteration{i}: loss = {loss}\")\n",
    "    return parameters\n",
    "\n",
    "parameters = train(x, y.T, hiddenLayerSize=4, iterations=10000, learningRate=0.1)"
   ]
  },
  {
   "cell_type": "code",
   "execution_count": 14,
   "id": "83860ffd-7b38-4754-b3ff-6d209b338a1c",
   "metadata": {
    "tags": []
   },
   "outputs": [],
   "source": [
    "# predict the labels for new data\n",
    "def predict(x, parameters):\n",
    "    A2, test = forwardFeed(x, parameters)\n",
    "    predictions = (A2 > 0.5).astype(int)\n",
    "    return predictions   "
   ]
  },
  {
   "cell_type": "code",
   "execution_count": 17,
   "id": "05343e42",
   "metadata": {},
   "outputs": [
    {
     "name": "stdout",
     "output_type": "stream",
     "text": [
      "[[0 1 0 1]]\n"
     ]
    }
   ],
   "source": [
    "predictions = predict(x, parameters)\n",
    "print(predictions)"
   ]
  }
 ],
 "metadata": {
  "kernelspec": {
   "display_name": "my-env",
   "language": "python",
   "name": "my-env"
  },
  "language_info": {
   "codemirror_mode": {
    "name": "ipython",
    "version": 3
   },
   "file_extension": ".py",
   "mimetype": "text/x-python",
   "name": "python",
   "nbconvert_exporter": "python",
   "pygments_lexer": "ipython3",
   "version": "3.12.0"
  }
 },
 "nbformat": 4,
 "nbformat_minor": 5
}
